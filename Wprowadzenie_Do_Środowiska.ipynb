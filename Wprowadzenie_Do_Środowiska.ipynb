{
  "nbformat": 4,
  "nbformat_minor": 0,
  "metadata": {
    "colab": {
      "provenance": [],
      "toc_visible": true,
      "authorship_tag": "ABX9TyOexIdrsSwipPZCrTB3qgA9",
      "include_colab_link": true
    },
    "kernelspec": {
      "name": "python3",
      "display_name": "Python 3"
    },
    "language_info": {
      "name": "python"
    }
  },
  "cells": [
    {
      "cell_type": "markdown",
      "metadata": {
        "id": "view-in-github",
        "colab_type": "text"
      },
      "source": [
        "<a href=\"https://colab.research.google.com/github/ItzzKajserQ/kursai/blob/main/Wprowadzenie_Do_%C5%9Arodowiska.ipynb\" target=\"_parent\"><img src=\"https://colab.research.google.com/assets/colab-badge.svg\" alt=\"Open In Colab\"/></a>"
      ]
    },
    {
      "cell_type": "code",
      "execution_count": null,
      "metadata": {
        "id": "nDX1b2CbEDH9"
      },
      "outputs": [],
      "source": []
    },
    {
      "cell_type": "markdown",
      "source": [
        "# **Podstawowe Elementy Języka Python**"
      ],
      "metadata": {
        "id": "AkT-_6UOFWiU"
      }
    },
    {
      "cell_type": "markdown",
      "source": [
        "*W tym rozdziale przedstawiamy podstawowe elementy składni języka Python.\n",
        "Poniżej dodajemy link do strony Pythona*\n"
      ],
      "metadata": {
        "id": "vmlNUp22Fup8"
      }
    },
    {
      "cell_type": "markdown",
      "source": [
        "https://www.python.org/."
      ],
      "metadata": {
        "id": "GzPlxy7zGspc"
      }
    },
    {
      "cell_type": "markdown",
      "source": [
        "# Omawiane Elementy"
      ],
      "metadata": {
        "id": "l7v0LFdqGyxy"
      }
    },
    {
      "cell_type": "markdown",
      "source": [
        "\n",
        "\n",
        "1.   Zmienne\n",
        "2.   Listy\n",
        "3.   Pętle\n",
        "4.   Słowniki i krotki\n",
        "5.   Instrukcje warunkowe\n",
        "6.   Funkcje\n",
        "7.   Obsługa plików\n",
        "8.   Obsługa wyjątków\n",
        "\n",
        "\n",
        "\n",
        "\n",
        "\n",
        "\n",
        "\n"
      ],
      "metadata": {
        "id": "rshSlN2jG3tp"
      }
    }
  ]
}